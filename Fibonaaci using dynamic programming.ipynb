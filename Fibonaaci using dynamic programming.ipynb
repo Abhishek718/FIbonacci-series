{
 "cells": [
  {
   "cell_type": "markdown",
   "metadata": {},
   "source": [
    "# Normal implementation"
   ]
  },
  {
   "cell_type": "code",
   "execution_count": 2,
   "metadata": {},
   "outputs": [
    {
     "name": "stdout",
     "output_type": "stream",
     "text": [
      "25\n",
      "0  :  0\n",
      "1  :  1\n",
      "2  :  1\n",
      "3  :  2\n",
      "4  :  3\n",
      "5  :  5\n",
      "6  :  8\n",
      "7  :  13\n",
      "8  :  21\n",
      "9  :  34\n",
      "10  :  55\n",
      "11  :  89\n",
      "12  :  144\n",
      "13  :  233\n",
      "14  :  377\n",
      "15  :  610\n",
      "16  :  987\n",
      "17  :  1597\n",
      "18  :  2584\n",
      "19  :  4181\n",
      "20  :  6765\n",
      "21  :  10946\n",
      "22  :  17711\n",
      "23  :  28657\n",
      "24  :  46368\n"
     ]
    }
   ],
   "source": [
    "# making a chache memory\n",
    "# or using memoization\n",
    "\n",
    "chache = {}\n",
    "def fibonacci(n):\n",
    "    \n",
    "#     check whether it is present in it or not\n",
    "\n",
    "    if n in chache:\n",
    "        return chache[n]\n",
    "    \n",
    "#     normal fibonacci program\n",
    "\n",
    "    if n == 0:\n",
    "        value = 0\n",
    "    elif n == 1:\n",
    "        value = 1\n",
    "    else:\n",
    "        value = fibonacci(n-1) + fibonacci(n-2)\n",
    "        \n",
    "#     appending the calculated value in it\n",
    "\n",
    "    chache[n] = value\n",
    "    return value\n",
    "\n",
    "for i in range(int(input())):\n",
    "    print(i,\" : \",fibonacci(i))"
   ]
  },
  {
   "cell_type": "markdown",
   "metadata": {},
   "source": [
    "# Using Inbuilt library"
   ]
  },
  {
   "cell_type": "code",
   "execution_count": 3,
   "metadata": {},
   "outputs": [
    {
     "name": "stdout",
     "output_type": "stream",
     "text": [
      "25\n",
      "0  :  0\n",
      "1  :  1\n",
      "2  :  1\n",
      "3  :  2\n",
      "4  :  3\n",
      "5  :  5\n",
      "6  :  8\n",
      "7  :  13\n",
      "8  :  21\n",
      "9  :  34\n",
      "10  :  55\n",
      "11  :  89\n",
      "12  :  144\n",
      "13  :  233\n",
      "14  :  377\n",
      "15  :  610\n",
      "16  :  987\n",
      "17  :  1597\n",
      "18  :  2584\n",
      "19  :  4181\n",
      "20  :  6765\n",
      "21  :  10946\n",
      "22  :  17711\n",
      "23  :  28657\n",
      "24  :  46368\n"
     ]
    }
   ],
   "source": [
    "# already intalled \n",
    "# no need to install additionally\n",
    "\n",
    "from functools import lru_cache\n",
    "\n",
    "# using decorator\n",
    "\n",
    "@lru_cache()\n",
    "\n",
    "# normal fibonacci program\n",
    "\n",
    "def fibonacci(n):\n",
    "    if n == 0:\n",
    "        return 0\n",
    "    if n == 1:\n",
    "        return 1\n",
    "    else:\n",
    "        return fibonacci(n-2) + fibonacci(n-1)\n",
    "\n",
    "for i in range(int(input())):\n",
    "    print(i,\" : \",fibonacci(i))"
   ]
  },
  {
   "cell_type": "code",
   "execution_count": null,
   "metadata": {},
   "outputs": [],
   "source": []
  }
 ],
 "metadata": {
  "kernelspec": {
   "display_name": "Python 3",
   "language": "python",
   "name": "python3"
  },
  "language_info": {
   "codemirror_mode": {
    "name": "ipython",
    "version": 3
   },
   "file_extension": ".py",
   "mimetype": "text/x-python",
   "name": "python",
   "nbconvert_exporter": "python",
   "pygments_lexer": "ipython3",
   "version": "3.7.2"
  }
 },
 "nbformat": 4,
 "nbformat_minor": 2
}
